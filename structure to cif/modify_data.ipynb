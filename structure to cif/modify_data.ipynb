{
 "cells": [
  {
   "cell_type": "code",
   "execution_count": 1,
   "id": "ad0ac408",
   "metadata": {},
   "outputs": [
    {
     "name": "stdout",
     "output_type": "stream",
     "text": [
      "Done: '1_MatDX_EF_modified.xlsx' has been created with only the 'Sheet1' sheet.\n"
     ]
    }
   ],
   "source": [
    "import os\n",
    "import ast\n",
    "import pandas as pd\n",
    "\n",
    "# ===== Settings =====\n",
    "input_file = \"1_MatDX_EF.xlsx\"                   # Input Excel file path\n",
    "input_sheet = \"1_MatDX_EF\"                       # Sheet name containing the original data\n",
    "output_file = \"1_MatDX_EF_modified.xlsx\"   # Output file (new file)\n",
    "output_sheet = \"Sheet1\"                  # Sheet name to save\n",
    "\n",
    "# ===== 1) Read original sheet =====\n",
    "df = pd.read_excel(input_file, sheet_name=input_sheet)\n",
    "\n",
    "# ===== 2) Convert formation_energy string -> dict (safe parsing) =====\n",
    "def to_dict_safe(x):\n",
    "    if isinstance(x, dict):\n",
    "        return x\n",
    "    if pd.isna(x):\n",
    "        return {}\n",
    "    try:\n",
    "        return ast.literal_eval(str(x))\n",
    "    except Exception:\n",
    "        return {}\n",
    "\n",
    "if \"formation_energy\" not in df.columns or \"formula\" not in df.columns:\n",
    "    raise KeyError(\"Required columns (formula, formation_energy) are missing.\")\n",
    "\n",
    "fe_series = df[\"formation_energy\"].apply(to_dict_safe)\n",
    "\n",
    "# ===== 3) Create new dataframe =====\n",
    "def get_val(d, key):\n",
    "    try:\n",
    "        return d.get(key, None)\n",
    "    except Exception:\n",
    "        return None\n",
    "\n",
    "new_data = pd.DataFrame({\n",
    "    \"file_name\": [f\"{i+2}_{str(f)}.cif\" for i, f in enumerate(df[\"formula\"])],\n",
    "    \"value_per_atom\": [get_val(d, \"value_per_atom\") for d in fe_series],\n",
    "    \"value\": [get_val(d, \"value\") for d in fe_series],\n",
    "})\n",
    "\n",
    "# ===== 4) Save to new file (only with processed sheet) =====\n",
    "with pd.ExcelWriter(output_file, engine=\"openpyxl\", mode=\"w\") as writer:\n",
    "    new_data.to_excel(writer, sheet_name=output_sheet, index=False)\n",
    "\n",
    "print(f\"Done: '{output_file}' has been created with only the '{output_sheet}' sheet.\")\n"
   ]
  }
 ],
 "metadata": {
  "kernelspec": {
   "display_name": "chgnet",
   "language": "python",
   "name": "python3"
  },
  "language_info": {
   "codemirror_mode": {
    "name": "ipython",
    "version": 3
   },
   "file_extension": ".py",
   "mimetype": "text/x-python",
   "name": "python",
   "nbconvert_exporter": "python",
   "pygments_lexer": "ipython3",
   "version": "3.12.7"
  }
 },
 "nbformat": 4,
 "nbformat_minor": 5
}
